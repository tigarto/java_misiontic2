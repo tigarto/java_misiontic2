{
 "cells": [
  {
   "cell_type": "markdown",
   "metadata": {},
   "source": [
    "[![Open In Colab](https://colab.research.google.com/assets/colab-badge.svg)](https://colab.research.google.com/github/tigarto/TdeA/blob/master/Funciones.ipynb)"
   ]
  },
  {
   "cell_type": "code",
   "execution_count": 1,
   "metadata": {},
   "outputs": [
    {
     "name": "stdout",
     "output_type": "stream",
     "text": [
      "Requirement already satisfied: tutormagic in c:\\users\\usuario\\anaconda3\\envs\\wintest\\lib\\site-packages (0.3.1)\n",
      "Requirement already satisfied: jupyter>=1.0 in c:\\users\\usuario\\anaconda3\\envs\\wintest\\lib\\site-packages (from tutormagic) (1.0.0)\n",
      "Requirement already satisfied: ipywidgets in c:\\users\\usuario\\anaconda3\\envs\\wintest\\lib\\site-packages (from jupyter>=1.0->tutormagic) (7.6.3)\n",
      "Requirement already satisfied: notebook in c:\\users\\usuario\\anaconda3\\envs\\wintest\\lib\\site-packages (from jupyter>=1.0->tutormagic) (6.4.0)\n",
      "Requirement already satisfied: jupyter-console in c:\\users\\usuario\\anaconda3\\envs\\wintest\\lib\\site-packages (from jupyter>=1.0->tutormagic) (6.4.0)\n",
      "Requirement already satisfied: nbconvert in c:\\users\\usuario\\anaconda3\\envs\\wintest\\lib\\site-packages (from jupyter>=1.0->tutormagic) (5.6.1)\n",
      "Requirement already satisfied: qtconsole in c:\\users\\usuario\\anaconda3\\envs\\wintest\\lib\\site-packages (from jupyter>=1.0->tutormagic) (5.1.0)\n",
      "Requirement already satisfied: ipykernel in c:\\users\\usuario\\anaconda3\\envs\\wintest\\lib\\site-packages (from jupyter>=1.0->tutormagic) (6.0.1)\n",
      "Requirement already satisfied: tornado>=4.2 in c:\\users\\usuario\\anaconda3\\envs\\wintest\\lib\\site-packages (from ipykernel->jupyter>=1.0->tutormagic) (6.1)\n",
      "Requirement already satisfied: jupyter-client in c:\\users\\usuario\\anaconda3\\envs\\wintest\\lib\\site-packages (from ipykernel->jupyter>=1.0->tutormagic) (6.1.12)\n",
      "Requirement already satisfied: debugpy>=1.0.0 in c:\\users\\usuario\\anaconda3\\envs\\wintest\\lib\\site-packages (from ipykernel->jupyter>=1.0->tutormagic) (1.3.0)\n",
      "Requirement already satisfied: importlib-metadata<4 in c:\\users\\usuario\\anaconda3\\envs\\wintest\\lib\\site-packages (from ipykernel->jupyter>=1.0->tutormagic) (3.10.1)\n",
      "Requirement already satisfied: traitlets>=4.1.0 in c:\\users\\usuario\\anaconda3\\envs\\wintest\\lib\\site-packages (from ipykernel->jupyter>=1.0->tutormagic) (5.0.5)\n",
      "Requirement already satisfied: ipython>=7.23.1 in c:\\users\\usuario\\anaconda3\\envs\\wintest\\lib\\site-packages (from ipykernel->jupyter>=1.0->tutormagic) (7.25.0)\n",
      "Requirement already satisfied: typing-extensions>=3.6.4 in c:\\users\\usuario\\anaconda3\\envs\\wintest\\lib\\site-packages (from importlib-metadata<4->ipykernel->jupyter>=1.0->tutormagic) (3.10.0.0)\n",
      "Requirement already satisfied: zipp>=0.5 in c:\\users\\usuario\\anaconda3\\envs\\wintest\\lib\\site-packages (from importlib-metadata<4->ipykernel->jupyter>=1.0->tutormagic) (3.5.0)\n",
      "Requirement already satisfied: colorama in c:\\users\\usuario\\anaconda3\\envs\\wintest\\lib\\site-packages (from ipython>=7.23.1->ipykernel->jupyter>=1.0->tutormagic) (0.4.4)\n",
      "Requirement already satisfied: matplotlib-inline in c:\\users\\usuario\\anaconda3\\envs\\wintest\\lib\\site-packages (from ipython>=7.23.1->ipykernel->jupyter>=1.0->tutormagic) (0.1.2)\n",
      "Requirement already satisfied: pickleshare in c:\\users\\usuario\\anaconda3\\envs\\wintest\\lib\\site-packages (from ipython>=7.23.1->ipykernel->jupyter>=1.0->tutormagic) (0.7.5)\n",
      "Requirement already satisfied: setuptools>=18.5 in c:\\users\\usuario\\anaconda3\\envs\\wintest\\lib\\site-packages (from ipython>=7.23.1->ipykernel->jupyter>=1.0->tutormagic) (49.6.0.post20210108)\n",
      "Requirement already satisfied: backcall in c:\\users\\usuario\\anaconda3\\envs\\wintest\\lib\\site-packages (from ipython>=7.23.1->ipykernel->jupyter>=1.0->tutormagic) (0.2.0)\n",
      "Requirement already satisfied: prompt-toolkit!=3.0.0,!=3.0.1,<3.1.0,>=2.0.0 in c:\\users\\usuario\\anaconda3\\envs\\wintest\\lib\\site-packages (from ipython>=7.23.1->ipykernel->jupyter>=1.0->tutormagic) (3.0.19)\n",
      "Requirement already satisfied: jedi>=0.16 in c:\\users\\usuario\\anaconda3\\envs\\wintest\\lib\\site-packages (from ipython>=7.23.1->ipykernel->jupyter>=1.0->tutormagic) (0.18.0)\n",
      "Requirement already satisfied: pygments in c:\\users\\usuario\\anaconda3\\envs\\wintest\\lib\\site-packages (from ipython>=7.23.1->ipykernel->jupyter>=1.0->tutormagic) (2.9.0)\n",
      "Requirement already satisfied: decorator in c:\\users\\usuario\\anaconda3\\envs\\wintest\\lib\\site-packages (from ipython>=7.23.1->ipykernel->jupyter>=1.0->tutormagic) (5.0.9)\n",
      "Requirement already satisfied: parso<0.9.0,>=0.8.0 in c:\\users\\usuario\\anaconda3\\envs\\wintest\\lib\\site-packages (from jedi>=0.16->ipython>=7.23.1->ipykernel->jupyter>=1.0->tutormagic) (0.8.2)\n",
      "Requirement already satisfied: wcwidth in c:\\users\\usuario\\anaconda3\\envs\\wintest\\lib\\site-packages (from prompt-toolkit!=3.0.0,!=3.0.1,<3.1.0,>=2.0.0->ipython>=7.23.1->ipykernel->jupyter>=1.0->tutormagic) (0.2.5)\n",
      "Requirement already satisfied: ipython-genutils in c:\\users\\usuario\\anaconda3\\envs\\wintest\\lib\\site-packages (from traitlets>=4.1.0->ipykernel->jupyter>=1.0->tutormagic) (0.2.0)\n",
      "Requirement already satisfied: widgetsnbextension~=3.5.0 in c:\\users\\usuario\\anaconda3\\envs\\wintest\\lib\\site-packages (from ipywidgets->jupyter>=1.0->tutormagic) (3.5.1)\n",
      "Requirement already satisfied: jupyterlab-widgets>=1.0.0 in c:\\users\\usuario\\anaconda3\\envs\\wintest\\lib\\site-packages (from ipywidgets->jupyter>=1.0->tutormagic) (1.0.0)\n",
      "Requirement already satisfied: nbformat>=4.2.0 in c:\\users\\usuario\\anaconda3\\envs\\wintest\\lib\\site-packages (from ipywidgets->jupyter>=1.0->tutormagic) (5.1.3)\n",
      "Requirement already satisfied: jupyter-core in c:\\users\\usuario\\anaconda3\\envs\\wintest\\lib\\site-packages (from nbformat>=4.2.0->ipywidgets->jupyter>=1.0->tutormagic) (4.7.1)\n",
      "Requirement already satisfied: jsonschema!=2.5.0,>=2.4 in c:\\users\\usuario\\anaconda3\\envs\\wintest\\lib\\site-packages (from nbformat>=4.2.0->ipywidgets->jupyter>=1.0->tutormagic) (3.2.0)\n",
      "Requirement already satisfied: pyrsistent>=0.14.0 in c:\\users\\usuario\\anaconda3\\envs\\wintest\\lib\\site-packages (from jsonschema!=2.5.0,>=2.4->nbformat>=4.2.0->ipywidgets->jupyter>=1.0->tutormagic) (0.18.0)\n",
      "Requirement already satisfied: attrs>=17.4.0 in c:\\users\\usuario\\anaconda3\\envs\\wintest\\lib\\site-packages (from jsonschema!=2.5.0,>=2.4->nbformat>=4.2.0->ipywidgets->jupyter>=1.0->tutormagic) (20.3.0)\n",
      "Requirement already satisfied: six>=1.11.0 in c:\\users\\usuario\\anaconda3\\envs\\wintest\\lib\\site-packages (from jsonschema!=2.5.0,>=2.4->nbformat>=4.2.0->ipywidgets->jupyter>=1.0->tutormagic) (1.16.0)\n",
      "Requirement already satisfied: prometheus-client in c:\\users\\usuario\\anaconda3\\envs\\wintest\\lib\\site-packages (from notebook->jupyter>=1.0->tutormagic) (0.11.0)\n",
      "Requirement already satisfied: Send2Trash>=1.5.0 in c:\\users\\usuario\\anaconda3\\envs\\wintest\\lib\\site-packages (from notebook->jupyter>=1.0->tutormagic) (1.7.1)\n",
      "Requirement already satisfied: terminado>=0.8.3 in c:\\users\\usuario\\anaconda3\\envs\\wintest\\lib\\site-packages (from notebook->jupyter>=1.0->tutormagic) (0.10.1)\n",
      "Requirement already satisfied: jinja2 in c:\\users\\usuario\\anaconda3\\envs\\wintest\\lib\\site-packages (from notebook->jupyter>=1.0->tutormagic) (3.0.1)\n",
      "Requirement already satisfied: argon2-cffi in c:\\users\\usuario\\anaconda3\\envs\\wintest\\lib\\site-packages (from notebook->jupyter>=1.0->tutormagic) (20.1.0)\n",
      "Requirement already satisfied: pyzmq>=17 in c:\\users\\usuario\\anaconda3\\envs\\wintest\\lib\\site-packages (from notebook->jupyter>=1.0->tutormagic) (22.1.0)\n",
      "Requirement already satisfied: python-dateutil>=2.1 in c:\\users\\usuario\\anaconda3\\envs\\wintest\\lib\\site-packages (from jupyter-client->ipykernel->jupyter>=1.0->tutormagic) (2.8.1)\n",
      "Requirement already satisfied: pywin32>=1.0 in c:\\users\\usuario\\anaconda3\\envs\\wintest\\lib\\site-packages (from jupyter-core->nbformat>=4.2.0->ipywidgets->jupyter>=1.0->tutormagic) (301)\n",
      "Requirement already satisfied: pywinpty>=1.1.0 in c:\\users\\usuario\\anaconda3\\envs\\wintest\\lib\\site-packages (from terminado>=0.8.3->notebook->jupyter>=1.0->tutormagic) (1.1.3)\n",
      "Requirement already satisfied: cffi>=1.0.0 in c:\\users\\usuario\\anaconda3\\envs\\wintest\\lib\\site-packages (from argon2-cffi->notebook->jupyter>=1.0->tutormagic) (1.14.5)\n",
      "Requirement already satisfied: pycparser in c:\\users\\usuario\\anaconda3\\envs\\wintest\\lib\\site-packages (from cffi>=1.0.0->argon2-cffi->notebook->jupyter>=1.0->tutormagic) (2.20)\n",
      "Requirement already satisfied: MarkupSafe>=2.0 in c:\\users\\usuario\\anaconda3\\envs\\wintest\\lib\\site-packages (from jinja2->notebook->jupyter>=1.0->tutormagic) (2.0.1)\n",
      "Requirement already satisfied: bleach in c:\\users\\usuario\\anaconda3\\envs\\wintest\\lib\\site-packages (from nbconvert->jupyter>=1.0->tutormagic) (3.3.0)\n",
      "Requirement already satisfied: testpath in c:\\users\\usuario\\anaconda3\\envs\\wintest\\lib\\site-packages (from nbconvert->jupyter>=1.0->tutormagic) (0.5.0)\n",
      "Requirement already satisfied: entrypoints>=0.2.2 in c:\\users\\usuario\\anaconda3\\envs\\wintest\\lib\\site-packages (from nbconvert->jupyter>=1.0->tutormagic) (0.3)\n",
      "Requirement already satisfied: defusedxml in c:\\users\\usuario\\anaconda3\\envs\\wintest\\lib\\site-packages (from nbconvert->jupyter>=1.0->tutormagic) (0.7.1)\n",
      "Requirement already satisfied: mistune<2,>=0.8.1 in c:\\users\\usuario\\anaconda3\\envs\\wintest\\lib\\site-packages (from nbconvert->jupyter>=1.0->tutormagic) (0.8.4)\n",
      "Requirement already satisfied: pandocfilters>=1.4.1 in c:\\users\\usuario\\anaconda3\\envs\\wintest\\lib\\site-packages (from nbconvert->jupyter>=1.0->tutormagic) (1.4.3)\n",
      "Requirement already satisfied: webencodings in c:\\users\\usuario\\anaconda3\\envs\\wintest\\lib\\site-packages (from bleach->nbconvert->jupyter>=1.0->tutormagic) (0.5.1)\n",
      "Requirement already satisfied: packaging in c:\\users\\usuario\\anaconda3\\envs\\wintest\\lib\\site-packages (from bleach->nbconvert->jupyter>=1.0->tutormagic) (21.0)\n",
      "Requirement already satisfied: pyparsing>=2.0.2 in c:\\users\\usuario\\anaconda3\\envs\\wintest\\lib\\site-packages (from packaging->bleach->nbconvert->jupyter>=1.0->tutormagic) (2.4.7)\n",
      "Requirement already satisfied: qtpy in c:\\users\\usuario\\anaconda3\\envs\\wintest\\lib\\site-packages (from qtconsole->jupyter>=1.0->tutormagic) (1.9.0)\n"
     ]
    }
   ],
   "source": [
    "!pip3 install tutormagic\n",
    "%load_ext tutormagic"
   ]
  },
  {
   "cell_type": "markdown",
   "metadata": {},
   "source": [
    "# Funciones en java #"
   ]
  },
  {
   "cell_type": "markdown",
   "metadata": {},
   "source": [
    "## Formato general de un metodo ##\n",
    "\n",
    "La forma general de un metodo en java se muestra a continuación\n",
    "\n",
    "```java\n",
    "return_type method_name( parameter_list ) \n",
    "{ \n",
    "    declarations and statements... \n",
    "} \n",
    "```\n"
   ]
  },
  {
   "cell_type": "markdown",
   "metadata": {},
   "source": [
    "### Ejemplo 1 ###\n",
    "\n",
    "Codificar un metodo en java que permita calcular el cuadrado de un numero entero. Siga el formato general para ello:\n",
    "\n",
    "**Solución**:\n",
    "A continuación se muestra la función en java:\n",
    "\n",
    "```java\n",
    "public static int square( int i ) { \n",
    "   return i*i; \n",
    "} \n",
    "```\n",
    "\n",
    "**Donde:**\n",
    "* **Nombre del método**: square\n",
    "* **Tipo de dato retornado**: int\n",
    "* **Lista de parametros**: int i\n",
    "* **Expresión retornada**: i*i\n",
    "* **Sentencia de retorno**: return i*i\n"
   ]
  },
  {
   "cell_type": "markdown",
   "metadata": {},
   "source": [
    "## Invocación de un método ##\n",
    "\n",
    "A continuación se muestra la forma de invocar un método:\n",
    "\n",
    "```java\n",
    "return_datatype variable = method_name( parameter_list ); \n",
    "```"
   ]
  },
  {
   "cell_type": "markdown",
   "metadata": {},
   "source": [
    "### Ejemplo 2 ###\n",
    "\n",
    "Invoque la función ```square``` definida en el **ejemplo 1** para calcular el valor del cuadrado de 10. Asigne este resultado a una variable entera llamada ``result``\n",
    "\n",
    "**Solución**:\n",
    "\n",
    "```java\n",
    "int result = 5 * square( 10 ); // result is 5 * 100 = 500 \n",
    "```"
   ]
  },
  {
   "cell_type": "markdown",
   "metadata": {},
   "source": [
    "### Ejemplo 3 ###\n",
    "Hacer un programa que calcule todos los cuadrados de los numeros entre 1 y 10 empleando la funcion ```square```\n",
    "\n",
    "**Solucion**: A continuación se muestra el programa completo y listo para ejecutarse, observe bien la parte asociada a la definición de la función y a la invocación de esta."
   ]
  },
  {
   "cell_type": "code",
   "execution_count": 2,
   "metadata": {},
   "outputs": [
    {
     "name": "stderr",
     "output_type": "stream",
     "text": [
      "C:\\Users\\Usuario\\anaconda3\\envs\\wintest\\lib\\site-packages\\ipykernel\\ipkernel.py:287: DeprecationWarning: `should_run_async` will not call `transform_cell` automatically in the future. Please pass the result to `transformed_cell` argument and any exception that happen during thetransform in `preprocessing_exc_tuple` in IPython 7.17 and above.\n",
      "  and should_run_async(code)\n"
     ]
    },
    {
     "data": {
      "text/html": [
       "<div class=\"text-center\"><strong><a style=\"box-sizing: border-box; padding: 0 5px; border: 1px solid #CFCFCF;\" target=\"_\" href=http://pythontutor.com/iframe-embed.html#code=%0Apublic%20class%20Math%20%7B%20%0A%20%20%20%20%0A%20%20%20%20/%2A%20Definicion%20de%20la%20funcion%20square%20%2A/%0A%20%20%20%20public%20static%20int%20square%28%20int%20i%20%29%20%7B%20%0A%20%20%20%20%20%20%20%20return%20i%2Ai%3B%20%0A%20%20%20%20%7D%20%0A%20%20%20%20%0A%20%20%20%20public%20static%20void%20main%28%20String%5B%5D%20args%20%29%20%7B%20%0A%20%20%20%20%20%20%20%20for%28%20int%20i%3D1%3B%20i%3C%3D10%3B%20i%2B%2B%20%29%20%7B%20%0A%20%20%20%20%20%20%20%20%20%20%20%20System.out.println%28%20%22i%3D%22%20%2B%20i%20%2B%20%22%2C%20i%2Ai%3D%22%20%2B%20square%28%20i%20%29%20/%2Ainvocacion%20de%20la%20funcion%2A/%20%29%3B%20%0A%20%20%20%20%20%20%20%20%7D%20%0A%20%20%20%20%7D%20%0A%7D%20%0A&origin=opt-frontend.js&cumulative=false&heapPrimitives=false&textReferences=false&curInstr=0&&verticalStack=false&py=java&rawInputLstJSON=%5B%5D&codeDivWidth=50%25&codeDivHeight=100%25>Python Tutor</a></strong></div>"
      ],
      "text/plain": [
       "<IPython.core.display.HTML object>"
      ]
     },
     "metadata": {},
     "output_type": "display_data"
    }
   ],
   "source": [
    "%%tutor -l java -k\n",
    "\n",
    "public class Math { \n",
    "    \n",
    "    /* Definicion de la funcion square */\n",
    "    public static int square( int i ) { \n",
    "        return i*i; \n",
    "    } \n",
    "    \n",
    "    public static void main( String[] args ) { \n",
    "        for( int i=1; i<=10; i++ ) { \n",
    "            System.out.println( \"i=\" + i + \", i*i=\" + square( i ) /*invocacion de la funcion*/ ); \n",
    "        } \n",
    "    } \n",
    "} "
   ]
  },
  {
   "cell_type": "markdown",
   "metadata": {},
   "source": [
    "## Funciones que no retornan ##\n",
    "\n",
    "No toda función retorna valores una vez que es invocada. Para indicar esto en la definición de la función se coloca la palabra clave ```void``` tal y como se muestra en el siguiente elemplo.\n",
    "\n",
    "### Ejemplo 4 ###\n",
    "Realizar una función que imprima en pantalla el numero que se le pasa como argumento.\n",
    "\n",
    "**Solución**: Notese el empleo de ```void``` en la parte del retorno de la función:\n",
    "\n",
    "\n",
    "```java\n",
    "public static void printNumber( int n ) { \n",
    "   System.out.println( \"El numero es \" + n ); \n",
    "}\n",
    "```\n",
    "\n",
    "Como el metodo anterior no retorna ningun valor en la invocación no es necesario usar una variable a la cual se lleve un valor retornado, pues en el caso, no lo hay. El siguiente ejemplo clarifica esto.\n",
    "\n",
    "### Ejemplo 5 ###\n",
    "\n",
    "Invocar la función print number de modo para visualizar el valor de 10 el cual previamente es asignado a una variable entera llamada n.\n",
    "\n",
    "**Solución**: Notese que en la invocacación el resultado de la información no se lleva a nada.\n",
    "\n",
    "```java\n",
    "int n = 10; \n",
    "printNumber( n ); // Note the result in not assigned to anything \n",
    "```\n",
    "\n"
   ]
  },
  {
   "cell_type": "markdown",
   "metadata": {},
   "source": [
    "### Ejemplo 6 ###\n",
    "Codificar los siguiente métodos para los cuales se muestra la respectiva cabecera:\n",
    "1. **square**: Función que calcula el cuadrado de un número.\n",
    "\n",
    "    ```java\n",
    "    public static int square( int n )\n",
    "    ```\n",
    "\n",
    "2. **cube**: Función que calcula el cubo de un número.\n",
    "\n",
    "    ```java\n",
    "    public static int cube( int n )\n",
    "    ```\n",
    "    \n",
    "3. **toThePower**: Función que calcula la potencia cualquiera de un número.\n",
    "\n",
    "    ```java\n",
    "    public static int toThePowe( int n, int power )\n",
    "    ```\n",
    "\n",
    "4. **factorial**: Calcula el factorial de un numero.\n",
    "\n",
    "    ```java\n",
    "    public static int factorial( int n ) \n",
    "    ```\n",
    "5. **showNumber**: Funcón que imprime el resultado de una operación.\n",
    "\n",
    "     ```java\n",
    "    public static void showNumber( String operation, int n )\n",
    "    ```\n",
    "\n",
    "Una vez haya codificado los metodos anteriores haga las siguientes pruebas imprimiendo (para lo cual deberá hacer uso de la función ```showNumber```) en el metodo principal lo siguiente:\n",
    "1. El cuadrado del numero 5\n",
    "2. El cubo del numero 5\n",
    "3. El numero 5 elevado a la potencia 4.\n",
    "4. El factorial de 5.\n",
    "\n",
    "**Solución**: A continuación se muestra la solución del programa anterior:"
   ]
  },
  {
   "cell_type": "code",
   "execution_count": 3,
   "metadata": {},
   "outputs": [
    {
     "name": "stderr",
     "output_type": "stream",
     "text": [
      "C:\\Users\\Usuario\\anaconda3\\envs\\wintest\\lib\\site-packages\\ipykernel\\ipkernel.py:287: DeprecationWarning: `should_run_async` will not call `transform_cell` automatically in the future. Please pass the result to `transformed_cell` argument and any exception that happen during thetransform in `preprocessing_exc_tuple` in IPython 7.17 and above.\n",
      "  and should_run_async(code)\n"
     ]
    },
    {
     "data": {
      "text/html": [
       "<div class=\"text-center\"><strong><a style=\"box-sizing: border-box; padding: 0 5px; border: 1px solid #CFCFCF;\" target=\"_\" href=http://pythontutor.com/iframe-embed.html#code=%0Apublic%20class%20Math2%20%7B%20%0A%20%20%20%20%0A%20%20%20%20public%20static%20int%20square%28%20int%20n%20%29%20%7B%20%0A%20%20%20%20%20%20%20%20return%20n%2An%3B%20%0A%20%20%20%20%7D%20%0A%20%20%20%20public%20static%20int%20cube%28%20int%20n%20%29%20%7B%20%0A%20%20%20%20%20%20%20%20return%20n%2An%2An%3B%20%0A%20%20%20%20%7D%20%0A%20%0A%20%20%20%20public%20static%20int%20toThePower%28%20int%20n%2C%20int%20power%20%29%20%7B%20%0A%20%20%20%20%20%20%20%20int%20result%3Dn%3B%20%0A%20%20%20%20%20%20%20%20for%28%20int%20i%3D0%3B%20i%3Cpower%3B%20i%2B%2B%20%29%20%7B%20%0A%20%20%20%20%20%20%20%20%20%20%20%20result%20%2A%3D%20n%3B%20%0A%20%20%20%20%20%20%20%20%7D%20%0A%20%20%20%20%20%20%20%20return%20result%3B%20%0A%20%20%20%20%7D%20%0A%0A%20%20%20%20public%20static%20int%20factorial%28%20int%20n%20%29%20%7B%20%0A%20%20%20%20%20%20%20%20int%20result%20%3D%20n%3B%20%0A%20%20%20%20%20%20%20%20for%28%20int%20i%3Dn-1%3B%20i%3E0%3B%20i--%20%29%20%7B%20%0A%20%20%20%20%20%20%20%20%20%20%20%20result%20%2A%3D%20i%3B%20%0A%20%20%20%20%20%20%20%20%7D%20%0A%20%20%20%20%20%20%20%20return%20result%3B%20%0A%20%20%20%20%7D%20%0A%20%20%20%20%20%0A%20%20%20%20public%20static%20void%20showNumber%28%20String%20operation%2C%20int%20n%20%29%20%7B%20%0A%20%20%20%20%20%20%20%20System.out.println%28%20%22The%20result%20of%20the%20%22%20%2B%20operation%20%2B%20%22%20is%20%22%20%2B%20n%20%29%3B%20%20%0A%20%20%20%20%7D%20%0A%20%20%20%20%0A%20%20%20%20public%20static%20void%20main%28%20String%5B%5D%20args%20%29%20%7B%20%0A%20%20%20%20%20%20%20%20int%20a%20%3D%205%3B%0A%20%20%20%20%20%20%20%20showNumber%28%20%22Square%22%2C%20square%28%20a%20%29%20%29%3B%20%0A%20%20%20%20%20%20%20%20showNumber%28%20%22Cube%22%2C%20cube%28%20a%20%29%20%29%3B%20%0A%20%20%20%20%20%20%20%20showNumber%28%20%22To%20The%20Power%22%2C%20toThePower%28%20a%2C%204%20%29%20%29%3B%20%0A%20%20%20%20%20%20%20%20showNumber%28%20%22Factorial%22%2C%20factorial%28%20a%20%29%20%29%3B%20%0A%20%20%20%20%7D%20%0A%7D%20%0A&origin=opt-frontend.js&cumulative=false&heapPrimitives=false&textReferences=false&curInstr=0&&verticalStack=false&py=java&rawInputLstJSON=%5B%5D&codeDivWidth=50%25&codeDivHeight=100%25>Python Tutor</a></strong></div>"
      ],
      "text/plain": [
       "<IPython.core.display.HTML object>"
      ]
     },
     "metadata": {},
     "output_type": "display_data"
    }
   ],
   "source": [
    "%%tutor -l java -k\n",
    "\n",
    "public class Math2 { \n",
    "    \n",
    "    public static int square( int n ) { \n",
    "        return n*n; \n",
    "    } \n",
    "    public static int cube( int n ) { \n",
    "        return n*n*n; \n",
    "    } \n",
    " \n",
    "    public static int toThePower( int n, int power ) { \n",
    "        int result=n; \n",
    "        for( int i=0; i<power; i++ ) { \n",
    "            result *= n; \n",
    "        } \n",
    "        return result; \n",
    "    } \n",
    "\n",
    "    public static int factorial( int n ) { \n",
    "        int result = n; \n",
    "        for( int i=n-1; i>0; i-- ) { \n",
    "            result *= i; \n",
    "        } \n",
    "        return result; \n",
    "    } \n",
    "     \n",
    "    public static void showNumber( String operation, int n ) { \n",
    "        System.out.println( \"The result of the \" + operation + \" is \" + n );  \n",
    "    } \n",
    "    \n",
    "    public static void main( String[] args ) { \n",
    "        int a = 5;\n",
    "        showNumber( \"Square\", square( a ) ); \n",
    "        showNumber( \"Cube\", cube( a ) ); \n",
    "        showNumber( \"To The Power\", toThePower( a, 4 ) ); \n",
    "        showNumber( \"Factorial\", factorial( a ) ); \n",
    "    } \n",
    "} "
   ]
  },
  {
   "cell_type": "markdown",
   "metadata": {},
   "source": [
    "## Pendiente ##\n",
    "1. Scope.\n",
    "2. Overloading.\n",
    "3. Recursion."
   ]
  },
  {
   "cell_type": "code",
   "execution_count": null,
   "metadata": {},
   "outputs": [],
   "source": []
  }
 ],
 "metadata": {
  "kernelspec": {
   "display_name": "Python 3",
   "language": "python",
   "name": "python3"
  },
  "language_info": {
   "codemirror_mode": {
    "name": "ipython",
    "version": 3
   },
   "file_extension": ".py",
   "mimetype": "text/x-python",
   "name": "python",
   "nbconvert_exporter": "python",
   "pygments_lexer": "ipython3",
   "version": "3.7.10"
  }
 },
 "nbformat": 4,
 "nbformat_minor": 2
}